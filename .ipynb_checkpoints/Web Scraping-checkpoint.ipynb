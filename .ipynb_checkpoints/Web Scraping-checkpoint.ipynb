{
 "cells": [
  {
   "cell_type": "code",
   "execution_count": 1,
   "id": "698a0401-002b-4a39-ba26-b203a08440b9",
   "metadata": {},
   "outputs": [],
   "source": [
    "import pandas as pd"
   ]
  },
  {
   "cell_type": "code",
   "execution_count": 2,
   "id": "2dd5c75b-8e0f-4a9f-9684-63e6ec3739d0",
   "metadata": {},
   "outputs": [],
   "source": [
    "from bs4 import BeautifulSoup\n",
    "import requests"
   ]
  },
  {
   "cell_type": "code",
   "execution_count": 3,
   "id": "1401ddc8-194a-45f3-82e9-f715aa2f1a16",
   "metadata": {},
   "outputs": [],
   "source": [
    "link = \"https://www.billboard.com/charts/hot-100\""
   ]
  },
  {
   "cell_type": "code",
   "execution_count": 4,
   "id": "6a591826-4d49-45af-bb23-fe44641ee612",
   "metadata": {},
   "outputs": [
    {
     "data": {
      "text/plain": [
       "200"
      ]
     },
     "execution_count": 4,
     "metadata": {},
     "output_type": "execute_result"
    }
   ],
   "source": [
    "response = requests.get(link)\n",
    "response.status_code"
   ]
  },
  {
   "cell_type": "code",
   "execution_count": 5,
   "id": "913f5cb2-bef7-4e1e-9bc1-302081ca6712",
   "metadata": {},
   "outputs": [],
   "source": [
    "html = response.text"
   ]
  },
  {
   "cell_type": "code",
   "execution_count": 6,
   "id": "0122b6d8-b4cf-4f68-8660-0cc455642954",
   "metadata": {},
   "outputs": [],
   "source": [
    "soup = BeautifulSoup(html, 'html.parser')"
   ]
  },
  {
   "cell_type": "code",
   "execution_count": 7,
   "id": "acb95dd1-76bc-4a6d-8b1d-a990f60bbba1",
   "metadata": {},
   "outputs": [],
   "source": [
    "song_titles = []"
   ]
  },
  {
   "cell_type": "code",
   "execution_count": 8,
   "id": "f89f12de-4ad1-4eac-9c39-74b0c2d20542",
   "metadata": {},
   "outputs": [],
   "source": [
    "title = soup.find('h3', class_='c-title').get_text(strip=True)"
   ]
  },
  {
   "cell_type": "code",
   "execution_count": 9,
   "id": "17ee7b79-aec1-461a-936d-89726124a84a",
   "metadata": {},
   "outputs": [],
   "source": [
    "song_titles.append(title)"
   ]
  },
  {
   "cell_type": "code",
   "execution_count": 10,
   "id": "14ad9c24-96e8-48ad-bce7-07d73506677b",
   "metadata": {
    "scrolled": true
   },
   "outputs": [],
   "source": [
    "title_elements = soup.find_all('h3', class_='c-title a-no-trucate a-font-primary-bold-s u-letter-spacing-0021 lrv-u-font-size-18@tablet lrv-u-font-size-16 u-line-height-125 u-line-height-normal@mobile-max a-truncate-ellipsis u-max-width-330 u-max-width-230@tablet-only')"
   ]
  },
  {
   "cell_type": "code",
   "execution_count": 12,
   "id": "281d56cc-6674-4508-a371-d5edeec6cef6",
   "metadata": {},
   "outputs": [],
   "source": [
    "for title_element in title_elements:\n",
    "    title_text = title_element.get_text(strip=True)\n",
    "    song_titles.append(title_text)"
   ]
  },
  {
   "cell_type": "code",
   "execution_count": 18,
   "id": "5502a3ed-91b4-4c43-9080-5ab66f268255",
   "metadata": {},
   "outputs": [],
   "source": [
    "df = pd.DataFrame(song_titles)"
   ]
  },
  {
   "cell_type": "code",
   "execution_count": 22,
   "id": "a1a9cf77-b2da-4fec-a030-656faaca398f",
   "metadata": {},
   "outputs": [],
   "source": [
    "df.index = df.index + 1"
   ]
  },
  {
   "cell_type": "code",
   "execution_count": 26,
   "id": "a115b47c-0a11-45c9-8cf7-c169ef4ec7c6",
   "metadata": {},
   "outputs": [],
   "source": [
    "df.columns = ['Song Title']"
   ]
  },
  {
   "cell_type": "code",
   "execution_count": 28,
   "id": "5a98892e-3d1c-48fd-b11d-1a547303cc99",
   "metadata": {},
   "outputs": [
    {
     "data": {
      "text/html": [
       "<div>\n",
       "<style scoped>\n",
       "    .dataframe tbody tr th:only-of-type {\n",
       "        vertical-align: middle;\n",
       "    }\n",
       "\n",
       "    .dataframe tbody tr th {\n",
       "        vertical-align: top;\n",
       "    }\n",
       "\n",
       "    .dataframe thead th {\n",
       "        text-align: right;\n",
       "    }\n",
       "</style>\n",
       "<table border=\"1\" class=\"dataframe\">\n",
       "  <thead>\n",
       "    <tr style=\"text-align: right;\">\n",
       "      <th></th>\n",
       "      <th>Song Title</th>\n",
       "    </tr>\n",
       "  </thead>\n",
       "  <tbody>\n",
       "    <tr>\n",
       "      <th>1</th>\n",
       "      <td>A Bar Song (Tipsy)</td>\n",
       "    </tr>\n",
       "    <tr>\n",
       "      <th>2</th>\n",
       "      <td>Birds Of A Feather</td>\n",
       "    </tr>\n",
       "    <tr>\n",
       "      <th>3</th>\n",
       "      <td>Timeless</td>\n",
       "    </tr>\n",
       "    <tr>\n",
       "      <th>4</th>\n",
       "      <td>I Had Some Help</td>\n",
       "    </tr>\n",
       "    <tr>\n",
       "      <th>5</th>\n",
       "      <td>Espresso</td>\n",
       "    </tr>\n",
       "    <tr>\n",
       "      <th>...</th>\n",
       "      <td>...</td>\n",
       "    </tr>\n",
       "    <tr>\n",
       "      <th>96</th>\n",
       "      <td>Keep Up</td>\n",
       "    </tr>\n",
       "    <tr>\n",
       "      <th>97</th>\n",
       "      <td>Passport Junkie</td>\n",
       "    </tr>\n",
       "    <tr>\n",
       "      <th>98</th>\n",
       "      <td>This Is My Dirt</td>\n",
       "    </tr>\n",
       "    <tr>\n",
       "      <th>99</th>\n",
       "      <td>Close To You</td>\n",
       "    </tr>\n",
       "    <tr>\n",
       "      <th>100</th>\n",
       "      <td>Slim Pickins</td>\n",
       "    </tr>\n",
       "  </tbody>\n",
       "</table>\n",
       "<p>100 rows × 1 columns</p>\n",
       "</div>"
      ],
      "text/plain": [
       "             Song Title\n",
       "1    A Bar Song (Tipsy)\n",
       "2    Birds Of A Feather\n",
       "3              Timeless\n",
       "4       I Had Some Help\n",
       "5              Espresso\n",
       "..                  ...\n",
       "96              Keep Up\n",
       "97      Passport Junkie\n",
       "98      This Is My Dirt\n",
       "99         Close To You\n",
       "100        Slim Pickins\n",
       "\n",
       "[100 rows x 1 columns]"
      ]
     },
     "execution_count": 28,
     "metadata": {},
     "output_type": "execute_result"
    }
   ],
   "source": [
    "df"
   ]
  }
 ],
 "metadata": {
  "kernelspec": {
   "display_name": "Python 3 (ipykernel)",
   "language": "python",
   "name": "python3"
  },
  "language_info": {
   "codemirror_mode": {
    "name": "ipython",
    "version": 3
   },
   "file_extension": ".py",
   "mimetype": "text/x-python",
   "name": "python",
   "nbconvert_exporter": "python",
   "pygments_lexer": "ipython3",
   "version": "3.12.2"
  }
 },
 "nbformat": 4,
 "nbformat_minor": 5
}
